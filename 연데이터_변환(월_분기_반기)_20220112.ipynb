{
 "cells": [
  {
   "cell_type": "markdown",
   "metadata": {
    "tags": []
   },
   "source": [
    "## (년 -> 월/분기/반기) 데이터 변환"
   ]
  },
  {
   "cell_type": "raw",
   "metadata": {},
   "source": [
    "# fn_year_data_transform : 연 데이터를 월/분기/반기 데이터로 변환하는 함수 / 생성된 데이터는 호출한 데이터와 동일한 위치에 저장됨\n",
    "# file_nm : 연데이터 파일명(ex.merge_dis_20220110)\n",
    "# save_range : 데이터 저장범위 : 'all' / 'month' / 'quarter' / 'half' 중에 선택하여 입력('all' 입력 시 월/분기/반기 결과 모두 저장)\n",
    "# YEAR_COL_NM : 연도 컬럼명 입력(ex.BASE_YY)\n",
    "# COL1 : 컬럼 구분자(ex.SIDO)\n",
    "# COL2 : 컬럼 구분자(ex.DIS_TYPE)\n",
    "\n",
    "# fn_year_data_transform('data/merge_dis_20220110','all','BASE_YY','SIDO','DIS_TYPE')\n",
    "# fn_year_data_transform(file_nm,save_range,YEAR_COL_NM,COL1,COL2)"
   ]
  },
  {
   "cell_type": "code",
   "execution_count": 12,
   "metadata": {},
   "outputs": [],
   "source": [
    "def fn_year_data_transform(file_nm, save_range, YEAR_COL_NM, COL1, COL2):\n",
    "    import pandas as pd\n",
    "    import copy\n",
    "    data = pd.read_csv(file_nm + '.csv', encoding = 'cp949')\n",
    "    nujuk_yr_to_mon_data = pd.DataFrame()\n",
    "    \n",
    "    COL1_list = list(data[COL1].unique())\n",
    "    COL2_list = list(data[COL2].unique())\n",
    "    \n",
    "    for col1 in COL1_list:\n",
    "        for col2 in COL2_list:\n",
    "            x = data.loc[(data[COL1] == col1) & (data[COL2] == col2),]\n",
    "            x = x.sort_values(by = YEAR_COL_NM).reset_index(drop=True)\n",
    "\n",
    "            col_list = list(x.columns)\n",
    "            mody_list = list(x.columns)\n",
    "            remove_list = [YEAR_COL_NM,COL1,COL2]\n",
    "\n",
    "            for i in remove_list:\n",
    "                mody_list.remove(i) \n",
    "                \n",
    "            for mody_col in mody_list:\n",
    "                df = x[[YEAR_COL_NM, mody_col]]\n",
    "                tmp_df = x[[mody_col]].shift(1).rename(columns = {mody_col:str(mody_col+'_sft')})\n",
    "                df = pd.concat([df, tmp_df], axis = 1)\n",
    "\n",
    "                df['diff'] = df[mody_col] - df[mody_col+'_sft']\n",
    "                df['diff_12'] = df['diff']/12\n",
    "                df['diff_12'] = df['diff_12'].shift(-1)\n",
    "                df = df[[YEAR_COL_NM, mody_col, 'diff_12']]\n",
    "\n",
    "                # num1 : df의 개수\n",
    "                # num2 : 1/12값 곱해줄 month\n",
    "                nujuk_mon_val = []  # 1/12값 곱해서 append할 장소\n",
    "                nujuk_year = []\n",
    "                nujuk_month = []\n",
    "\n",
    "                for num1 in range(len(df)):\n",
    "                    for num2 in range(0,12):\n",
    "                        if num2 == 0:\n",
    "                            # nujuk_mon_val : 생성한 월값\n",
    "                            nujuk_mon_val.append(df[mody_col][num1])   \n",
    "                            # nujuk_year : 연도\n",
    "                            nujuk_year.append(df[YEAR_COL_NM][num1])\n",
    "                            # nujuk_month : 월\n",
    "                            nujuk_month.append(12)  \n",
    "                        else:\n",
    "                            if num1 != (len(df) - 1):\n",
    "                                # nujuk_mon_val : 생성한 월값\n",
    "                                nujuk_mon_val.append(df[mody_col][num1] + (num2 * df['diff_12'][num1]))\n",
    "                                # nujuk_year : 연도\n",
    "                                nujuk_year.append(df[YEAR_COL_NM][num1] + 1)\n",
    "                                # nujuk_month : 월\n",
    "                                nujuk_month.append((num2))  \n",
    "\n",
    "                mon_val_df = pd.DataFrame(nujuk_mon_val).rename(columns = {0:mody_col})\n",
    "                year_df = pd.DataFrame(nujuk_year).rename(columns = {0:'YEAR'})\n",
    "                month_df = pd.DataFrame(nujuk_month).rename(columns = {0:'MONTH'})\n",
    "\n",
    "                if mody_col == mody_list[0]:\n",
    "                    yr_to_mon_data = pd.concat([year_df, month_df, mon_val_df], axis = 1)\n",
    "                else:\n",
    "                    yr_to_mon_data = pd.concat([yr_to_mon_data, mon_val_df], axis = 1)\n",
    "            \n",
    "            # 컬럼 순서 변경\n",
    "            basic_col = [COL1,COL2] + list(yr_to_mon_data.columns)            \n",
    "            yr_to_mon_data[COL1] = col1\n",
    "            yr_to_mon_data[COL2] = col2\n",
    "            yr_to_mon_data = yr_to_mon_data[basic_col]\n",
    "\n",
    "            # 데이터 누적\n",
    "            nujuk_yr_to_mon_data = nujuk_yr_to_mon_data.append(yr_to_mon_data)\n",
    "            # print('nujuk_yr_to_mon_data 건수 : ', len(nujuk_yr_to_mon_data))\n",
    "\n",
    "    ## nujuk_yr_to_mon_data : 월데이터\n",
    "    \n",
    "    # *************************************************************************************** #\n",
    "    # 연 데이터 -> 월 데이터 저장\n",
    "    month_data = copy.deepcopy(nujuk_yr_to_mon_data)\n",
    "    # month_data.to_csv(file_nm + '_month.csv', index = False, encoding = 'utf-8')\n",
    "    # *************************************************************************************** #\n",
    "    # 월 데이터 -> 분기 데이터 저장\n",
    "    quarter_data = copy.deepcopy(nujuk_yr_to_mon_data)\n",
    "\n",
    "    col_list = list(quarter_data.columns)\n",
    "    mody_list = list(quarter_data.columns)\n",
    "    remove_list = [COL1,COL2,'YEAR','MONTH']\n",
    "\n",
    "    for i in remove_list:\n",
    "        mody_list.remove(i)\n",
    "\n",
    "    quarter_data.loc[quarter_data['MONTH'].isin([1,2,3]),'QUARTER'] = 1\n",
    "    quarter_data.loc[quarter_data['MONTH'].isin([4,5,6]),'QUARTER'] = 2\n",
    "    quarter_data.loc[quarter_data['MONTH'].isin([7,8,9]),'QUARTER'] = 3\n",
    "    quarter_data.loc[quarter_data['MONTH'].isin([10,11,12]),'QUARTER'] = 4\n",
    "\n",
    "    basic_col = [COL1,COL2,'YEAR','QUARTER'] + mody_list\n",
    "\n",
    "    quarter_data = quarter_data.groupby([COL1,COL2,'YEAR','QUARTER']).sum().reset_index()\n",
    "    quarter_data = quarter_data[basic_col]\n",
    "    \n",
    "    # quarter_data.to_csv(file_nm + '_quarter.csv', index = False, encoding = 'utf-8')\n",
    "    # *************************************************************************************** #\n",
    "    # 월 데이터 -> 반기 데이터 저장\n",
    "    half_data = copy.deepcopy(nujuk_yr_to_mon_data)\n",
    "\n",
    "    col_list = list(half_data.columns)\n",
    "    mody_list = list(half_data.columns)\n",
    "    remove_list = [COL1,COL2,'YEAR','MONTH']\n",
    "\n",
    "    for i in remove_list:\n",
    "        mody_list.remove(i)\n",
    "\n",
    "    half_data.loc[half_data['MONTH'].isin([1,2,3,4,5,6]),'HALF'] = 1\n",
    "    half_data.loc[half_data['MONTH'].isin([7,8,9,10,11,12]),'HALF'] = 2\n",
    "\n",
    "    basic_col = [COL1,COL2,'YEAR','HALF'] + mody_list\n",
    "\n",
    "    half_data = half_data.groupby([COL1,COL2,'YEAR','HALF']).sum().reset_index()\n",
    "    half_data = half_data[basic_col]\n",
    "\n",
    "    # half_data.to_csv(file_nm + '_half.csv', index = False, encoding = 'utf-8')\n",
    "    # *************************************************************************************** #\n",
    "    # 결과 저장\n",
    "    if save_range == 'all':\n",
    "        month_data.to_csv(file_nm + '_month.csv', index = False, encoding = 'utf-8')\n",
    "        quarter_data.to_csv(file_nm + '_quarter.csv', index = False, encoding = 'utf-8')\n",
    "        half_data.to_csv(file_nm + '_half.csv', index = False, encoding = 'utf-8')\n",
    "    elif save_range == 'month':\n",
    "        month_data.to_csv(file_nm + '_month.csv', index = False, encoding = 'utf-8')\n",
    "    elif save_range == 'quarter':\n",
    "        quarter_data.to_csv(file_nm + '_quarter.csv', index = False, encoding = 'utf-8')\n",
    "    elif save_range == 'half':\n",
    "        half_data.to_csv(file_nm + '_half.csv', index = False, encoding = 'utf-8')\n",
    "    else:\n",
    "        print('월/분기/반기 모두 저장합니다.')\n",
    "        month_data.to_csv(file_nm + '_month.csv', index = False, encoding = 'utf-8')\n",
    "        quarter_data.to_csv(file_nm + '_quarter.csv', index = False, encoding = 'utf-8')\n",
    "        half_data.to_csv(file_nm + '_half.csv', index = False, encoding = 'utf-8')\n",
    "    # *************************************************************************************** #\n",
    "    return 'end'"
   ]
  },
  {
   "cell_type": "code",
   "execution_count": 25,
   "metadata": {},
   "outputs": [
    {
     "data": {
      "text/plain": [
       "['data/merge_cls_20220112',\n",
       " 'data/merge_age_20220112',\n",
       " 'data/merge_dis_20220112']"
      ]
     },
     "execution_count": 25,
     "metadata": {},
     "output_type": "execute_result"
    }
   ],
   "source": [
    "import pandas as pd\n",
    "import glob\n",
    "file_list = glob.glob('data/*_20220112.csv')\n",
    "file_list = pd.DataFrame(file_list).rename(columns = {0:'col'})\n",
    "file_list = list(file_list['col'].apply(lambda x : x[:-4]))\n",
    "file_list"
   ]
  },
  {
   "cell_type": "code",
   "execution_count": 14,
   "metadata": {},
   "outputs": [],
   "source": [
    "# fn_year_data_transform('data/merge_dis_20220110','all','BASE_YY','SIDO','DIS_TYPE')  # fn_year_data_transform(file_nm,save_range,YEAR_COL_NM,COL1,COL2)"
   ]
  },
  {
   "cell_type": "code",
   "execution_count": 31,
   "metadata": {},
   "outputs": [
    {
     "data": {
      "text/html": [
       "<div>\n",
       "<style scoped>\n",
       "    .dataframe tbody tr th:only-of-type {\n",
       "        vertical-align: middle;\n",
       "    }\n",
       "\n",
       "    .dataframe tbody tr th {\n",
       "        vertical-align: top;\n",
       "    }\n",
       "\n",
       "    .dataframe thead th {\n",
       "        text-align: right;\n",
       "    }\n",
       "</style>\n",
       "<table border=\"1\" class=\"dataframe\">\n",
       "  <thead>\n",
       "    <tr style=\"text-align: right;\">\n",
       "      <th></th>\n",
       "      <th>BASE_YY</th>\n",
       "      <th>SIDO</th>\n",
       "      <th>DIS_TYPE</th>\n",
       "      <th>SEP_CNT</th>\n",
       "      <th>mohw_dis1</th>\n",
       "      <th>mohw_dis10</th>\n",
       "      <th>mohw_dis11</th>\n",
       "      <th>mohw_dis12</th>\n",
       "      <th>mohw_dis13</th>\n",
       "      <th>mohw_dis14</th>\n",
       "      <th>...</th>\n",
       "      <th>SEP_DV_CNT</th>\n",
       "      <th>ESTI_CNT</th>\n",
       "      <th>GDP</th>\n",
       "      <th>WORK_TGT_RT</th>\n",
       "      <th>WLF_ORGNZ_CNT</th>\n",
       "      <th>MC_BORN_RT</th>\n",
       "      <th>STSF_LOW</th>\n",
       "      <th>EFF_LOW</th>\n",
       "      <th>MDL3_GD1</th>\n",
       "      <th>HG2_GD1</th>\n",
       "    </tr>\n",
       "  </thead>\n",
       "  <tbody>\n",
       "    <tr>\n",
       "      <th>0</th>\n",
       "      <td>2010</td>\n",
       "      <td>강원</td>\n",
       "      <td>특수_건강</td>\n",
       "      <td>77</td>\n",
       "      <td>7</td>\n",
       "      <td>2</td>\n",
       "      <td>18</td>\n",
       "      <td>1293</td>\n",
       "      <td>284</td>\n",
       "      <td>142</td>\n",
       "      <td>...</td>\n",
       "      <td>NaN</td>\n",
       "      <td>277046</td>\n",
       "      <td>NaN</td>\n",
       "      <td>NaN</td>\n",
       "      <td>NaN</td>\n",
       "      <td>NaN</td>\n",
       "      <td>NaN</td>\n",
       "      <td>NaN</td>\n",
       "      <td>NaN</td>\n",
       "      <td>NaN</td>\n",
       "    </tr>\n",
       "    <tr>\n",
       "      <th>1</th>\n",
       "      <td>2010</td>\n",
       "      <td>강원</td>\n",
       "      <td>특수_발달지체</td>\n",
       "      <td>42</td>\n",
       "      <td>7</td>\n",
       "      <td>2</td>\n",
       "      <td>18</td>\n",
       "      <td>1293</td>\n",
       "      <td>284</td>\n",
       "      <td>142</td>\n",
       "      <td>...</td>\n",
       "      <td>NaN</td>\n",
       "      <td>277046</td>\n",
       "      <td>NaN</td>\n",
       "      <td>NaN</td>\n",
       "      <td>NaN</td>\n",
       "      <td>NaN</td>\n",
       "      <td>NaN</td>\n",
       "      <td>NaN</td>\n",
       "      <td>NaN</td>\n",
       "      <td>NaN</td>\n",
       "    </tr>\n",
       "    <tr>\n",
       "      <th>2</th>\n",
       "      <td>2010</td>\n",
       "      <td>강원</td>\n",
       "      <td>특수_시각</td>\n",
       "      <td>113</td>\n",
       "      <td>7</td>\n",
       "      <td>2</td>\n",
       "      <td>18</td>\n",
       "      <td>1293</td>\n",
       "      <td>284</td>\n",
       "      <td>142</td>\n",
       "      <td>...</td>\n",
       "      <td>NaN</td>\n",
       "      <td>277046</td>\n",
       "      <td>NaN</td>\n",
       "      <td>NaN</td>\n",
       "      <td>NaN</td>\n",
       "      <td>NaN</td>\n",
       "      <td>NaN</td>\n",
       "      <td>NaN</td>\n",
       "      <td>NaN</td>\n",
       "      <td>NaN</td>\n",
       "    </tr>\n",
       "  </tbody>\n",
       "</table>\n",
       "<p>3 rows × 30 columns</p>\n",
       "</div>"
      ],
      "text/plain": [
       "   BASE_YY SIDO DIS_TYPE  SEP_CNT  mohw_dis1  mohw_dis10  mohw_dis11  \\\n",
       "0     2010   강원    특수_건강       77          7           2          18   \n",
       "1     2010   강원  특수_발달지체       42          7           2          18   \n",
       "2     2010   강원    특수_시각      113          7           2          18   \n",
       "\n",
       "   mohw_dis12  mohw_dis13  mohw_dis14  ...  SEP_DV_CNT  ESTI_CNT  GDP  \\\n",
       "0        1293         284         142  ...         NaN    277046  NaN   \n",
       "1        1293         284         142  ...         NaN    277046  NaN   \n",
       "2        1293         284         142  ...         NaN    277046  NaN   \n",
       "\n",
       "   WORK_TGT_RT  WLF_ORGNZ_CNT  MC_BORN_RT  STSF_LOW  EFF_LOW  MDL3_GD1  \\\n",
       "0          NaN            NaN         NaN       NaN      NaN       NaN   \n",
       "1          NaN            NaN         NaN       NaN      NaN       NaN   \n",
       "2          NaN            NaN         NaN       NaN      NaN       NaN   \n",
       "\n",
       "   HG2_GD1  \n",
       "0      NaN  \n",
       "1      NaN  \n",
       "2      NaN  \n",
       "\n",
       "[3 rows x 30 columns]"
      ]
     },
     "execution_count": 31,
     "metadata": {},
     "output_type": "execute_result"
    }
   ],
   "source": [
    "file_nm = file_list[2]\n",
    "data = pd.read_csv(file_nm + '.csv', encoding = 'cp949')\n",
    "data.head(3)"
   ]
  },
  {
   "cell_type": "code",
   "execution_count": 28,
   "metadata": {},
   "outputs": [
    {
     "data": {
      "text/plain": [
       "Index(['BASE_YY', 'SIDO', 'CLS_NM'], dtype='object')"
      ]
     },
     "execution_count": 28,
     "metadata": {},
     "output_type": "execute_result"
    }
   ],
   "source": [
    "data.columns[0:3]  # file_list[0]"
   ]
  },
  {
   "cell_type": "code",
   "execution_count": 30,
   "metadata": {},
   "outputs": [
    {
     "data": {
      "text/plain": [
       "Index(['BASE_YY', 'SIDO', 'AGE'], dtype='object')"
      ]
     },
     "execution_count": 30,
     "metadata": {},
     "output_type": "execute_result"
    }
   ],
   "source": [
    "data.columns[0:3]  # file_list[1]"
   ]
  },
  {
   "cell_type": "code",
   "execution_count": 32,
   "metadata": {},
   "outputs": [
    {
     "data": {
      "text/plain": [
       "Index(['BASE_YY', 'SIDO', 'DIS_TYPE'], dtype='object')"
      ]
     },
     "execution_count": 32,
     "metadata": {},
     "output_type": "execute_result"
    }
   ],
   "source": [
    "data.columns[0:3]  # file_list[2]"
   ]
  },
  {
   "cell_type": "code",
   "execution_count": 34,
   "metadata": {
    "scrolled": true
   },
   "outputs": [
    {
     "data": {
      "text/plain": [
       "'end'"
      ]
     },
     "execution_count": 34,
     "metadata": {},
     "output_type": "execute_result"
    }
   ],
   "source": [
    "fn_year_data_transform(file_list[0],'all','BASE_YY','SIDO','CLS_NM')"
   ]
  },
  {
   "cell_type": "code",
   "execution_count": 35,
   "metadata": {},
   "outputs": [
    {
     "data": {
      "text/plain": [
       "'end'"
      ]
     },
     "execution_count": 35,
     "metadata": {},
     "output_type": "execute_result"
    }
   ],
   "source": [
    "fn_year_data_transform(file_list[1],'all','BASE_YY','SIDO','AGE')"
   ]
  },
  {
   "cell_type": "code",
   "execution_count": 36,
   "metadata": {},
   "outputs": [
    {
     "data": {
      "text/plain": [
       "'end'"
      ]
     },
     "execution_count": 36,
     "metadata": {},
     "output_type": "execute_result"
    }
   ],
   "source": [
    "fn_year_data_transform(file_list[2],'all','BASE_YY','SIDO','DIS_TYPE')"
   ]
  },
  {
   "cell_type": "markdown",
   "metadata": {},
   "source": [
    "--------"
   ]
  }
 ],
 "metadata": {
  "kernelspec": {
   "display_name": "Python 3 (ipykernel)",
   "language": "python",
   "name": "python3"
  },
  "language_info": {
   "codemirror_mode": {
    "name": "ipython",
    "version": 3
   },
   "file_extension": ".py",
   "mimetype": "text/x-python",
   "name": "python",
   "nbconvert_exporter": "python",
   "pygments_lexer": "ipython3",
   "version": "3.8.10"
  }
 },
 "nbformat": 4,
 "nbformat_minor": 5
}
