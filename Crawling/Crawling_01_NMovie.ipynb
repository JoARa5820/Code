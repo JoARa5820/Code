{
 "cells": [
  {
   "cell_type": "code",
   "execution_count": 1,
   "metadata": {},
   "outputs": [],
   "source": [
    "import os\n",
    "import subprocess\n",
    "import smtplib\n",
    "import email\n",
    "import copy\n",
    "import time\n",
    "import pickle\n",
    "import re\n",
    "import warnings\n",
    "import datetime\n",
    "warnings.filterwarnings(action='ignore') \n",
    "\n",
    "import pandas as pd\n",
    "from time import sleep\n",
    "from collections import OrderedDict  # 리스트 중복 제거 & 순서 그대로 / 순서 뒤죽박죽 중복제거 : set\n",
    "\n",
    "from selenium import webdriver\n",
    "from selenium.webdriver.common.keys import Keys\n",
    "from selenium.webdriver.common.by import By\n",
    "from selenium.webdriver.common.action_chains import ActionChains\n",
    "from email.mime.multipart import MIMEMultipart\n",
    "from email.mime.text import MIMEText\n",
    "from email.mime.base import MIMEBase\n",
    "from email.mime.image import MIMEImage\n",
    "from email.encoders import encode_base64\n",
    "\n",
    "from selenium.common.exceptions import NoSuchElementException,WebDriverException,StaleElementReferenceException\n",
    "\n",
    "from bs4 import BeautifulSoup\n",
    "import schedule"
   ]
  },
  {
   "cell_type": "code",
   "execution_count": 9,
   "metadata": {},
   "outputs": [],
   "source": [
    "from selenium import webdriver\n",
    "import time\n",
    "\n",
    "from selenium.common.exceptions import NoSuchElementException\n",
    "from selenium.webdriver.common.by import By\n",
    "from selenium.webdriver.chrome.service import Service\n",
    "# from webdriver_manager.chrome import ChromeDriverManager"
   ]
  },
  {
   "cell_type": "code",
   "execution_count": 18,
   "metadata": {},
   "outputs": [],
   "source": [
    "# 크롬드라이버를 경로를 입력해서 연결합니다.\n",
    "# 현재 스크립트와 같은 폴더에 있다면 경로를 따로 입력하지 않아도 됩니다.\n",
    "URL = 'https://movie.naver.com/'\n",
    "# driver = webdriver.Chrome(executable_path='C:/Users/User/Desktop/chromedriver_win32/chromedriver')\n",
    "driver = webdriver.Chrome(executable_path='C:/Users/82109/Desktop/Kmong/KK_CODE/chromedriver')\n",
    "driver.implicitly_wait(5)\n",
    "driver.get(url=URL)"
   ]
  },
  {
   "cell_type": "code",
   "execution_count": 50,
   "metadata": {},
   "outputs": [],
   "source": [
    "# 클릭하기 (검색어 입력창 클릭)\n",
    "# click_target = '/html/body/div/div[2]/div/div/fieldset/div/span/label'\n",
    "click_target = '/html/body/div/div[2]/div/div/fieldset/div/span/input'\n",
    "id_input = driver.find_element(by = By.XPATH, value = click_target)\n",
    "id_input.click()"
   ]
  },
  {
   "cell_type": "code",
   "execution_count": 51,
   "metadata": {},
   "outputs": [],
   "source": [
    "# 텍스트 지우기\n",
    "id_input.clear()"
   ]
  },
  {
   "cell_type": "code",
   "execution_count": 52,
   "metadata": {},
   "outputs": [],
   "source": [
    "# 텍스트 입력\n",
    "enter_text = '더 퍼스트 슬램덩크'\n",
    "id_input.send_keys(enter_text)\n",
    "time.sleep(1)"
   ]
  },
  {
   "cell_type": "code",
   "execution_count": 53,
   "metadata": {},
   "outputs": [],
   "source": [
    "# 클릭하기 (검색어 입력 후 검색 클릭)\n",
    "click_target = '/html/body/div/div[2]/div/div/fieldset/div/button'\n",
    "id_input = driver.find_element(by = By.XPATH, value = click_target)\n",
    "id_input.click()"
   ]
  },
  {
   "cell_type": "code",
   "execution_count": 55,
   "metadata": {},
   "outputs": [],
   "source": [
    "# 클릭하기 (바이올렛 에버가든 2종 중 1종 선택)\n",
    "# click_target = '/html/body/div/div[4]/div/div/div/div/div[1]/ul[2]/li[1]/dl/dt/a/strong'  # 바이올렛 에버가든 2개 중 첫번째꺼\n",
    "# click_target = '/html/body/div/div[4]/div/div/div/div/div[1]/ul[2]/li/p/a'  # 이미지 클릭으로 영화 선택\n",
    "click_target = '/html/body/div/div[4]/div/div/div/div/div[1]/ul[2]/li/dl/dt/a'  # 영화명 클릭으로 영화 선택\n",
    "id_input = driver.find_element(by = By.XPATH, value = click_target)\n",
    "id_input.click()"
   ]
  },
  {
   "cell_type": "code",
   "execution_count": 68,
   "metadata": {},
   "outputs": [],
   "source": [
    "# 클릭하기 (평점 탭 클릭)\n",
    "# click_target = '/html/body/div/div[4]/div[3]/div[1]/div[3]/ul/li[5]/a/em'\n",
    "click_target = '/html/body/div/div[4]/div[2]/div[1]/div[3]/ul/li[5]/a'\n",
    "id_input = driver.find_element(by = By.XPATH, value = click_target)\n",
    "id_input.click()"
   ]
  },
  {
   "cell_type": "raw",
   "metadata": {},
   "source": [
    "#####################################################################################################################################################################\n",
    "## 상대경로 : 경로의 중간단계부터 시작 가능하고, //로 시작함\n",
    "//*[@class = 'bar']//*[text()='Testing']  # 절대경로가 아닌 상대경로로, class = bar 아래의 글자가 'Testing'인 요소를 가져옴\n",
    "# => 즉, 두단계를 설정하는 것\n",
    "//*[@class = 'bar' or @name = 'bttnReset']   # OR 또는 AND 사용가능\n",
    "//*[contains(text(), 'here')]  # 글자의 일부만 매칭\n",
    "//*[contains(@href, 'guru99.com')]  # '=' 값의 일부만 매칭\n",
    "//label [starts-with (@id, 'message')] # ID의 초기 텍스트가 동일한 경우 : message12,message342...\n",
    "//td[text() = 'UserID']  # 표현식에서 텍스트 기능을 사용해서 정확한 텍스트가 일치하는 요소를 찾음\n",
    "//*[@type='text']//following::input  # 특정 요소에 중점을 두려면 following 사용(암호,로그인,재설정-3개의 '입력'노드가 일치할때)\n",
    "//*[text() = 'Enterprise Testing']//ancestor::div  # 현재 노드의 모든 조상 요소 선택 : 현재 Enterprise Testing 노드의 조상 요소 중 n개의 div 노드가 있음\n",
    "//*[text() = 'Enterprise Testing']//ancestor::div[1]  # 조상 노드 : 특정 요소에 초점을 맞출때\n",
    "//*[@id = 'java_technologies']/child::li  # 자식 축의 n개의 li 노드가 일치함\n",
    "//*[@id = 'java_technologies']/child::li[1]  # 자식 노드 : 특정 요소에 초점을 맞출때   \n",
    "// * [@ type = 'submit'] // preceding :: input  # 현재 노드 앞에 오는 모든 노드를 선택함(preceding)\n",
    "// * [@ type = 'submit'] // following-sibling :: input  # 현재 노드 뒤의 요소를 찾아서 선택(type='submit'이 있는 곳이 LOGIN이였다면, 다음 텍스트가 input인 곳은 RESET 부분임)\n",
    "// * [@ id = 'rt-feature'] // parent :: div  # 현재 노드의 부모 노드 선택\n",
    "// * [@ id = 'rt-feature'] // parent :: div[1]  # 부모 노드 : 특정 요소에 초점을 맞출때 \n",
    "// * [@ type = 'password'] // self :: input  # 노드 자체 축, 자체 요소를 나타내기 때문에 항상 하나의 노드만 찾음\n",
    "// * [@ id = 'rt-feature'] // descendant :: a  # 현재 노드의 자손을 선택, 모든 요소 자손을 식별\n",
    "// * [@ id = 'rt-feature'] // descendant :: a[1]  # 모든 자손 노드 : 특정 요소에 초점을 맞출때 \n",
    "#####################################################################################################################################################################"
   ]
  },
  {
   "cell_type": "code",
   "execution_count": 169,
   "metadata": {},
   "outputs": [],
   "source": [
    "nujuk_page_num = []\n",
    "nujuk_score = []\n",
    "nujuk_review = []\n",
    "nujuk_ReviewTime = []"
   ]
  },
  {
   "cell_type": "code",
   "execution_count": 170,
   "metadata": {},
   "outputs": [
    {
     "ename": "InvalidSelectorException",
     "evalue": "Message: invalid selector: Unable to locate an element with the xpath expression /html/body/div/div/div[5]/ul/li[]/div[2]/dl/dt/em[2] because of the following error:\nSyntaxError: Failed to execute 'evaluate' on 'Document': The string '/html/body/div/div/div[5]/ul/li[]/div[2]/dl/dt/em[2]' is not a valid XPath expression.\n  (Session info: chrome=108.0.5359.125)\nStacktrace:\nBacktrace:\n\t(No symbol) [0x00B4F243]\n\t(No symbol) [0x00AD7FD1]\n\t(No symbol) [0x009CD04D]\n\t(No symbol) [0x009CFD34]\n\t(No symbol) [0x009CFBE5]\n\t(No symbol) [0x009CFE80]\n\t(No symbol) [0x009FBD55]\n\t(No symbol) [0x009FC22B]\n\t(No symbol) [0x00A2E612]\n\t(No symbol) [0x00A185D4]\n\t(No symbol) [0x00A2C9EB]\n\t(No symbol) [0x00A18386]\n\t(No symbol) [0x009F163C]\n\t(No symbol) [0x009F269D]\n\tGetHandleVerifier [0x00DE9A22+2655074]\n\tGetHandleVerifier [0x00DDCA24+2601828]\n\tGetHandleVerifier [0x00BF8C0A+619850]\n\tGetHandleVerifier [0x00BF7830+614768]\n\t(No symbol) [0x00AE05FC]\n\t(No symbol) [0x00AE5968]\n\t(No symbol) [0x00AE5A55]\n\t(No symbol) [0x00AF051B]\n\tBaseThreadInitThunk [0x75A400F9+25]\n\tRtlGetAppContainerNamedObjectPath [0x77AE7BBE+286]\n\tRtlGetAppContainerNamedObjectPath [0x77AE7B8E+238]\n",
     "output_type": "error",
     "traceback": [
      "\u001b[1;31m---------------------------------------------------------------------------\u001b[0m",
      "\u001b[1;31mInvalidSelectorException\u001b[0m                  Traceback (most recent call last)",
      "\u001b[1;32m~\\AppData\\Local\\Temp\\ipykernel_8324\\3402340041.py\u001b[0m in \u001b[0;36m<module>\u001b[1;34m\u001b[0m\n\u001b[0;32m     18\u001b[0m         \u001b[1;31m## (3) 평점 입력시간\u001b[0m\u001b[1;33m\u001b[0m\u001b[1;33m\u001b[0m\u001b[0m\n\u001b[0;32m     19\u001b[0m         \u001b[0mReviewTime\u001b[0m \u001b[1;33m=\u001b[0m \u001b[1;34m'/html/body/div/div/div[5]/ul/li['\u001b[0m \u001b[1;33m+\u001b[0m \u001b[0mstr\u001b[0m\u001b[1;33m(\u001b[0m\u001b[1;33m)\u001b[0m \u001b[1;33m+\u001b[0m \u001b[1;34m']/div[2]/dl/dt/em[2]'\u001b[0m\u001b[1;33m\u001b[0m\u001b[1;33m\u001b[0m\u001b[0m\n\u001b[1;32m---> 20\u001b[1;33m         \u001b[0mReviewTime_add\u001b[0m \u001b[1;33m=\u001b[0m \u001b[0mdriver\u001b[0m\u001b[1;33m.\u001b[0m\u001b[0mfind_element\u001b[0m\u001b[1;33m(\u001b[0m\u001b[0mby\u001b[0m \u001b[1;33m=\u001b[0m \u001b[0mBy\u001b[0m\u001b[1;33m.\u001b[0m\u001b[0mXPATH\u001b[0m\u001b[1;33m,\u001b[0m \u001b[0mvalue\u001b[0m \u001b[1;33m=\u001b[0m \u001b[0mReviewTime\u001b[0m\u001b[1;33m)\u001b[0m\u001b[1;33m\u001b[0m\u001b[1;33m\u001b[0m\u001b[0m\n\u001b[0m\u001b[0;32m     21\u001b[0m         \u001b[0mReviewTime\u001b[0m \u001b[1;33m=\u001b[0m \u001b[0mReviewTime_add\u001b[0m\u001b[1;33m.\u001b[0m\u001b[0mtext\u001b[0m\u001b[1;33m\u001b[0m\u001b[1;33m\u001b[0m\u001b[0m\n\u001b[0;32m     22\u001b[0m \u001b[1;33m\u001b[0m\u001b[0m\n",
      "\u001b[1;32m~\\anaconda3\\lib\\site-packages\\selenium\\webdriver\\remote\\webdriver.py\u001b[0m in \u001b[0;36mfind_element\u001b[1;34m(self, by, value)\u001b[0m\n\u001b[0;32m    859\u001b[0m             \u001b[0mvalue\u001b[0m \u001b[1;33m=\u001b[0m \u001b[1;34m'[name=\"%s\"]'\u001b[0m \u001b[1;33m%\u001b[0m \u001b[0mvalue\u001b[0m\u001b[1;33m\u001b[0m\u001b[1;33m\u001b[0m\u001b[0m\n\u001b[0;32m    860\u001b[0m \u001b[1;33m\u001b[0m\u001b[0m\n\u001b[1;32m--> 861\u001b[1;33m         \u001b[1;32mreturn\u001b[0m \u001b[0mself\u001b[0m\u001b[1;33m.\u001b[0m\u001b[0mexecute\u001b[0m\u001b[1;33m(\u001b[0m\u001b[0mCommand\u001b[0m\u001b[1;33m.\u001b[0m\u001b[0mFIND_ELEMENT\u001b[0m\u001b[1;33m,\u001b[0m \u001b[1;33m{\u001b[0m\u001b[1;34m\"using\"\u001b[0m\u001b[1;33m:\u001b[0m \u001b[0mby\u001b[0m\u001b[1;33m,\u001b[0m \u001b[1;34m\"value\"\u001b[0m\u001b[1;33m:\u001b[0m \u001b[0mvalue\u001b[0m\u001b[1;33m}\u001b[0m\u001b[1;33m)\u001b[0m\u001b[1;33m[\u001b[0m\u001b[1;34m\"value\"\u001b[0m\u001b[1;33m]\u001b[0m\u001b[1;33m\u001b[0m\u001b[1;33m\u001b[0m\u001b[0m\n\u001b[0m\u001b[0;32m    862\u001b[0m \u001b[1;33m\u001b[0m\u001b[0m\n\u001b[0;32m    863\u001b[0m     \u001b[1;32mdef\u001b[0m \u001b[0mfind_elements\u001b[0m\u001b[1;33m(\u001b[0m\u001b[0mself\u001b[0m\u001b[1;33m,\u001b[0m \u001b[0mby\u001b[0m\u001b[1;33m=\u001b[0m\u001b[0mBy\u001b[0m\u001b[1;33m.\u001b[0m\u001b[0mID\u001b[0m\u001b[1;33m,\u001b[0m \u001b[0mvalue\u001b[0m\u001b[1;33m:\u001b[0m \u001b[0mOptional\u001b[0m\u001b[1;33m[\u001b[0m\u001b[0mstr\u001b[0m\u001b[1;33m]\u001b[0m \u001b[1;33m=\u001b[0m \u001b[1;32mNone\u001b[0m\u001b[1;33m)\u001b[0m \u001b[1;33m->\u001b[0m \u001b[0mList\u001b[0m\u001b[1;33m[\u001b[0m\u001b[0mWebElement\u001b[0m\u001b[1;33m]\u001b[0m\u001b[1;33m:\u001b[0m\u001b[1;33m\u001b[0m\u001b[1;33m\u001b[0m\u001b[0m\n",
      "\u001b[1;32m~\\anaconda3\\lib\\site-packages\\selenium\\webdriver\\remote\\webdriver.py\u001b[0m in \u001b[0;36mexecute\u001b[1;34m(self, driver_command, params)\u001b[0m\n\u001b[0;32m    442\u001b[0m         \u001b[0mresponse\u001b[0m \u001b[1;33m=\u001b[0m \u001b[0mself\u001b[0m\u001b[1;33m.\u001b[0m\u001b[0mcommand_executor\u001b[0m\u001b[1;33m.\u001b[0m\u001b[0mexecute\u001b[0m\u001b[1;33m(\u001b[0m\u001b[0mdriver_command\u001b[0m\u001b[1;33m,\u001b[0m \u001b[0mparams\u001b[0m\u001b[1;33m)\u001b[0m\u001b[1;33m\u001b[0m\u001b[1;33m\u001b[0m\u001b[0m\n\u001b[0;32m    443\u001b[0m         \u001b[1;32mif\u001b[0m \u001b[0mresponse\u001b[0m\u001b[1;33m:\u001b[0m\u001b[1;33m\u001b[0m\u001b[1;33m\u001b[0m\u001b[0m\n\u001b[1;32m--> 444\u001b[1;33m             \u001b[0mself\u001b[0m\u001b[1;33m.\u001b[0m\u001b[0merror_handler\u001b[0m\u001b[1;33m.\u001b[0m\u001b[0mcheck_response\u001b[0m\u001b[1;33m(\u001b[0m\u001b[0mresponse\u001b[0m\u001b[1;33m)\u001b[0m\u001b[1;33m\u001b[0m\u001b[1;33m\u001b[0m\u001b[0m\n\u001b[0m\u001b[0;32m    445\u001b[0m             \u001b[0mresponse\u001b[0m\u001b[1;33m[\u001b[0m\u001b[1;34m\"value\"\u001b[0m\u001b[1;33m]\u001b[0m \u001b[1;33m=\u001b[0m \u001b[0mself\u001b[0m\u001b[1;33m.\u001b[0m\u001b[0m_unwrap_value\u001b[0m\u001b[1;33m(\u001b[0m\u001b[0mresponse\u001b[0m\u001b[1;33m.\u001b[0m\u001b[0mget\u001b[0m\u001b[1;33m(\u001b[0m\u001b[1;34m\"value\"\u001b[0m\u001b[1;33m,\u001b[0m \u001b[1;32mNone\u001b[0m\u001b[1;33m)\u001b[0m\u001b[1;33m)\u001b[0m\u001b[1;33m\u001b[0m\u001b[1;33m\u001b[0m\u001b[0m\n\u001b[0;32m    446\u001b[0m             \u001b[1;32mreturn\u001b[0m \u001b[0mresponse\u001b[0m\u001b[1;33m\u001b[0m\u001b[1;33m\u001b[0m\u001b[0m\n",
      "\u001b[1;32m~\\anaconda3\\lib\\site-packages\\selenium\\webdriver\\remote\\errorhandler.py\u001b[0m in \u001b[0;36mcheck_response\u001b[1;34m(self, response)\u001b[0m\n\u001b[0;32m    247\u001b[0m                 \u001b[0malert_text\u001b[0m \u001b[1;33m=\u001b[0m \u001b[0mvalue\u001b[0m\u001b[1;33m[\u001b[0m\u001b[1;34m\"alert\"\u001b[0m\u001b[1;33m]\u001b[0m\u001b[1;33m.\u001b[0m\u001b[0mget\u001b[0m\u001b[1;33m(\u001b[0m\u001b[1;34m\"text\"\u001b[0m\u001b[1;33m)\u001b[0m\u001b[1;33m\u001b[0m\u001b[1;33m\u001b[0m\u001b[0m\n\u001b[0;32m    248\u001b[0m             \u001b[1;32mraise\u001b[0m \u001b[0mexception_class\u001b[0m\u001b[1;33m(\u001b[0m\u001b[0mmessage\u001b[0m\u001b[1;33m,\u001b[0m \u001b[0mscreen\u001b[0m\u001b[1;33m,\u001b[0m \u001b[0mstacktrace\u001b[0m\u001b[1;33m,\u001b[0m \u001b[0malert_text\u001b[0m\u001b[1;33m)\u001b[0m  \u001b[1;31m# type: ignore[call-arg]  # mypy is not smart enough here\u001b[0m\u001b[1;33m\u001b[0m\u001b[1;33m\u001b[0m\u001b[0m\n\u001b[1;32m--> 249\u001b[1;33m         \u001b[1;32mraise\u001b[0m \u001b[0mexception_class\u001b[0m\u001b[1;33m(\u001b[0m\u001b[0mmessage\u001b[0m\u001b[1;33m,\u001b[0m \u001b[0mscreen\u001b[0m\u001b[1;33m,\u001b[0m \u001b[0mstacktrace\u001b[0m\u001b[1;33m)\u001b[0m\u001b[1;33m\u001b[0m\u001b[1;33m\u001b[0m\u001b[0m\n\u001b[0m",
      "\u001b[1;31mInvalidSelectorException\u001b[0m: Message: invalid selector: Unable to locate an element with the xpath expression /html/body/div/div/div[5]/ul/li[]/div[2]/dl/dt/em[2] because of the following error:\nSyntaxError: Failed to execute 'evaluate' on 'Document': The string '/html/body/div/div/div[5]/ul/li[]/div[2]/dl/dt/em[2]' is not a valid XPath expression.\n  (Session info: chrome=108.0.5359.125)\nStacktrace:\nBacktrace:\n\t(No symbol) [0x00B4F243]\n\t(No symbol) [0x00AD7FD1]\n\t(No symbol) [0x009CD04D]\n\t(No symbol) [0x009CFD34]\n\t(No symbol) [0x009CFBE5]\n\t(No symbol) [0x009CFE80]\n\t(No symbol) [0x009FBD55]\n\t(No symbol) [0x009FC22B]\n\t(No symbol) [0x00A2E612]\n\t(No symbol) [0x00A185D4]\n\t(No symbol) [0x00A2C9EB]\n\t(No symbol) [0x00A18386]\n\t(No symbol) [0x009F163C]\n\t(No symbol) [0x009F269D]\n\tGetHandleVerifier [0x00DE9A22+2655074]\n\tGetHandleVerifier [0x00DDCA24+2601828]\n\tGetHandleVerifier [0x00BF8C0A+619850]\n\tGetHandleVerifier [0x00BF7830+614768]\n\t(No symbol) [0x00AE05FC]\n\t(No symbol) [0x00AE5968]\n\t(No symbol) [0x00AE5A55]\n\t(No symbol) [0x00AF051B]\n\tBaseThreadInitThunk [0x75A400F9+25]\n\tRtlGetAppContainerNamedObjectPath [0x77AE7BBE+286]\n\tRtlGetAppContainerNamedObjectPath [0x77AE7B8E+238]\n"
     ]
    }
   ],
   "source": [
    "# 평점 페이지 넘기기\n",
    "for page_num in range(10,11):\n",
    "    page_add = 'https://movie.naver.com/movie/bi/mi/pointWriteFormList.naver?code=223800&type=after&isActualPointWriteExecute=false&isMileageSubscriptionAlready=false&isMileageSubscriptionReject=false&page=' + str(page_num)\n",
    "    driver.get(url=page_add)\n",
    "    \n",
    "    # (해당 페이지에서) 점수와 관람평 가져오기\n",
    "    for comm_num in range(1,11):\n",
    "        ## (1) 점수\n",
    "        score_add = '/html/body/div/div/div[5]/ul/li[' + str(comm_num) + ']/div[1]/em'\n",
    "        score = driver.find_element(by = By.XPATH, value = score_add)\n",
    "        score = score.text\n",
    "        \n",
    "        ## (2) 관람평\n",
    "        review_add = '/html/body/div/div/div[5]/ul/li[' + str(comm_num) + ']/div[2]/p/span[2]'\n",
    "        review = driver.find_element(by = By.XPATH, value = review_add)\n",
    "        review = review.text\n",
    "        \n",
    "        ## (3) 평점 입력시간\n",
    "        ReviewTime = '/html/body/div/div/div[5]/ul/li[' + str() + ']/div[2]/dl/dt/em[2]'\n",
    "        ReviewTime_add = driver.find_element(by = By.XPATH, value = ReviewTime)\n",
    "        ReviewTime = ReviewTime_add.text\n",
    "        \n",
    "        # 페이지 - 점수 - 관람평\n",
    "        nujuk_page_num.append(page_num)\n",
    "        nujuk_score.append(score)\n",
    "        nujuk_review.append([review])\n",
    "        nujuk_ReviewTime.append([ReviewTime])\n",
    "        \n",
    "# (페이지 - 점수 - 관람평) 결과 병합\n",
    "nujuk_page_num = pd.DataFrame(nujuk_page_num, columns = ['page_num'])\n",
    "nujuk_score = pd.DataFrame(nujuk_score, columns = ['score'])\n",
    "nujuk_review = pd.DataFrame(nujuk_review, columns = ['review'])\n",
    "page_score_df = pd.concat([nujuk_page_num,nujuk_score,nujuk_review,nujuk_ReviewTime], axis = 1)"
   ]
  },
  {
   "cell_type": "code",
   "execution_count": null,
   "metadata": {},
   "outputs": [],
   "source": []
  },
  {
   "cell_type": "code",
   "execution_count": null,
   "metadata": {},
   "outputs": [],
   "source": [
    "browser.find_elements_by_css_selector(locates)"
   ]
  },
  {
   "cell_type": "code",
   "execution_count": null,
   "metadata": {},
   "outputs": [],
   "source": []
  },
  {
   "cell_type": "code",
   "execution_count": null,
   "metadata": {},
   "outputs": [],
   "source": []
  },
  {
   "cell_type": "code",
   "execution_count": null,
   "metadata": {},
   "outputs": [],
   "source": [
    "# 텍스트 가져오기\n",
    "table = driver.find_element_by_xpath(\"//table[@class='default']\")\n",
    "table_data = table.text"
   ]
  },
  {
   "cell_type": "markdown",
   "metadata": {},
   "source": [
    "--------------------------------------------------------------------------------------------------------------------------------\n",
    "--------------------------------------------------------------------------------------------------------------------------------\n",
    "--------------------------------------------------------------------------------------------------------------------------------"
   ]
  },
  {
   "cell_type": "code",
   "execution_count": null,
   "metadata": {},
   "outputs": [],
   "source": [
    "# # 클릭하기\n",
    "# id_input=driver.find_element_by_xpath('/html/body/div[2]/div[3]/div[2]/div[1]/div[5]/div[1]/div/input')\n",
    "# id_input.click()\n",
    "\n",
    "# # 텍스트 입력\n",
    "# id_input.send_keys(mody_kakao)\n",
    "# time.sleep(1)\n",
    "\n",
    "# # 텍스트 가져오기\n",
    "# table = driver.find_element_by_xpath(\"//table[@class='default']\")\n",
    "# table_data = table.text"
   ]
  },
  {
   "cell_type": "code",
   "execution_count": null,
   "metadata": {},
   "outputs": [],
   "source": [
    "# 해당 태그 존재 여부를 확인하기까지 3초 정지\n",
    "element = WebDriverWait(driver, 3).until(EC.presence_of_element_located((By.CLASS_NAME, 'list_title'))) \n",
    "\n",
    "theater_list = []\n",
    "pageNum = int(driver.find_element_by_class_name('_totalCount').text)\n",
    "count = 0\n",
    "\n",
    "for i in range(1, pageNum):\n",
    "    theater_data = driver.find_elements_by_class_name('list_title')\n",
    "    img_data = driver.find_elements_by_class_name('list_thumb')\n",
    "\n",
    "    for k in theater_data:\n",
    "        theater_list.append(k.text.split('\\n'))\n",
    "\n",
    "    for j in img_data:  # 이미지 크롤링\n",
    "        count += 1\n",
    "        j.screenshot(f'img/{count}.png')\n",
    "\n",
    "    driver.find_element_by_xpath(\"//a[@class='btn_page_next _btnNext on']\").click()\n",
    "    time.sleep(2) # 웹페이지를 불러오기 위해 2초 정지"
   ]
  },
  {
   "cell_type": "code",
   "execution_count": null,
   "metadata": {},
   "outputs": [],
   "source": [
    "# 페이지 소스 가져오기\n",
    "html = driver.page_source\n",
    "\n",
    "# 객체 생성\n",
    "soup = BeautifulSoup(html)"
   ]
  },
  {
   "cell_type": "code",
   "execution_count": null,
   "metadata": {},
   "outputs": [],
   "source": [
    "#xpath\n",
    "id_input=driver.find_element_by_xpath('/html/body/div[2]/div[1]/ul/li[2]/a')\n",
    "id_input.click()\n",
    "\n",
    "#time.sleep(5)\n",
    "\n",
    "id_input=driver.find_element_by_xpath('/html/body/div[2]/div[3]/div[2]/div[1]/div[5]/div[1]/div/input')\n",
    "id_input.click()\n",
    "\n",
    "id_input.send_keys(str(champ))\n",
    "\n",
    "id_input=driver.find_element_by_xpath(\"/html/body/div[2]/div[3]/div[2]/div[1]/div[5]/div[3]/div[\" + str(dict1[str(champ)]) +\"]/a/div[1]/i\")\n",
    "id_input.click()\n",
    "\n",
    "#/html/body/div[2]/div[3]/div[2]/div[1]/div[5]/div[3]/div[1]/a/div[1]/i\n",
    "#/html/body/div[2]/div[3]/div[2]/div[1]/div[5]/div[3]/div[2]/a/div[1]/i\n",
    "#/html/body/div[2]/div[3]/div[2]/div[1]/div[5]/div[3]/div[20]/a/div[1]/i\n",
    "\n",
    "aa=driver.page_source\n",
    "\n",
    "prod_soup = BeautifulSoup(aa, 'html.parser')\n",
    "result=prod_soup.find_all('td', attrs={'class': 'champion-overview__stats champion-overview__stats--pick'})[0]('strong')[0].text\n",
    "\n",
    "\n",
    "\n",
    "dict1 = {\"럭스\" : 20,\n",
    "         \"가렌\" : 1}\n"
   ]
  },
  {
   "cell_type": "code",
   "execution_count": null,
   "metadata": {},
   "outputs": [],
   "source": []
  },
  {
   "cell_type": "code",
   "execution_count": null,
   "metadata": {},
   "outputs": [],
   "source": []
  },
  {
   "cell_type": "code",
   "execution_count": null,
   "metadata": {},
   "outputs": [],
   "source": [
    "options = webdriver.ChromeOptions()\n",
    "options.add_argument('headless')    # 웹 브라우저를 띄우지 않는 headless chrome 옵션 적용\n",
    "options.add_argument('disable-gpu')    # GPU 사용 안함\n",
    "options.add_argument('lang=ko_KR')    # 언어 설정\n",
    "driver = webdriver.Chrome(chromedriver, options=options)\n",
    "\n",
    "driver.get(url)"
   ]
  },
  {
   "cell_type": "code",
   "execution_count": null,
   "metadata": {},
   "outputs": [],
   "source": [
    "for i in range(1, pageNum):\n",
    "        theater_data = driver.find_elements_by_class_name('list_title')\n",
    "\n",
    "        for k in theater_data:\n",
    "            theater_list.append(k.text.split('\\n'))\n",
    "\n",
    "        driver.find_element_by_xpath(\"//a[@class='btn_page_next _btnNext on']\").click()\n",
    "        time.sleep(2)\n",
    "        \n",
    "# 비어있는 리스트(theater_list)를 생성합니다.\n",
    "# pageNum은 다음으로 넘어가는 페이지의 최대 수를 class name으로 가져와서 해당 숫자만큼 for문으로 반복합니다.\n",
    "# list_title에 해당하는 모든 데이터를 리스트로 가져와서 비어있던 리스트에 append 시킵니다. (.text를 적용하면 텍스트 형태로 추출이 가능합니다.)\n",
    "# 첫 페이지를 크롤링 했다면 다음 페이지로 넘어가기 위해 해당 태그를 찾아서 .click()을 적용하여 마우스를 자동화 시킨 후 새로운 내용이 업로드 될 때 까지 time.sleep(2)를 적용하여 2초 동안 기다리게 합니다."
   ]
  },
  {
   "cell_type": "code",
   "execution_count": null,
   "metadata": {},
   "outputs": [],
   "source": [
    "from selenium.common.exceptions import TimeoutException\n",
    "\n",
    "except TimeoutException:    # 예외 처리\n",
    "    print('해당 페이지에 연극 정보가 존재하지 않습니다.')\n",
    "    \n",
    "# 예외 처리 기능 : 해당 태그를 찾을 때 없다면 except TimeoutException만 실행 시킴"
   ]
  },
  {
   "cell_type": "code",
   "execution_count": null,
   "metadata": {},
   "outputs": [],
   "source": [
    "finally:\n",
    "    driver.quit() # 종료\n",
    "    \n",
    "# 반드시 실행 시키는 기능 : 정상, 예외 처리 둘 중 하나여도 반드시 실행시킴"
   ]
  },
  {
   "cell_type": "code",
   "execution_count": null,
   "metadata": {},
   "outputs": [],
   "source": [
    "img_data = driver.find_elements_by_class_name('list_thumb')\n",
    "\n",
    "for j in img_data:\n",
    "            count += 1\n",
    "            j.screenshot(f'img/{count}.png')\n",
    "            \n",
    "# 이미지 크롤링 png 파일 저장"
   ]
  },
  {
   "cell_type": "code",
   "execution_count": null,
   "metadata": {},
   "outputs": [],
   "source": [
    "# theater_list를 Pandas.DataFrame으로 다음과 같이 표현할 수 있다.\n",
    "\n",
    "import pandas as pd\n",
    "\n",
    "theater_df = pd.DataFrame(theater_list,\n",
    "                          columns=['연극명', '기간', '장소', '개막일', '폐막일', '오픈런'])\n",
    "theater_df.index = theater_df.index + 1    # 인덱스 초기값 1로 변경\n",
    "theater_df['개막일'] = pd.to_datetime(theater_df['개막일'], format='%y.%m.%d.')\n",
    "theater_df['폐막일'] = pd.to_datetime(theater_df['폐막일'], format='%y.%m.%d.')"
   ]
  },
  {
   "cell_type": "code",
   "execution_count": null,
   "metadata": {},
   "outputs": [],
   "source": [
    "from urllib.parse import quote_plus    # 한글 텍스트를 퍼센트 인코딩으로 변환\n",
    "from selenium import webdriver\n",
    "from selenium.webdriver.common.by import By\n",
    "from selenium.webdriver.support.ui import WebDriverWait   # 해당 태그를 기다림\n",
    "from selenium.webdriver.support import expected_conditions as EC\n",
    "from selenium.common.exceptions import TimeoutException    # 태그가 없는 예외 처리\n",
    "import time\n",
    "import pandas as pd\n",
    "\n",
    "_input = input('''-월--일, -월, 이번주, 이번주말 중 선택하여 입력해주세요.\n",
    "                                 (-은 숫자 입력, 이번년도만 가능) : ''')\n",
    "user_input = quote_plus(_input)\n",
    "\n",
    "url = f'https://search.naver.com/search.naver?where=nexearch&sm=tab_etc&query={user_input}%20%EC%97%B0%EA%B7%B9%20%EA%B3%B5%EC%97%B0'\n",
    "chromedriver = '/home/leejiheon/workspace/crawling/chromedriver'\n",
    "\n",
    "options = webdriver.ChromeOptions()\n",
    "options.add_argument('headless')    # 웹 브라우저를 띄우지 않는 headlss chrome 옵션 적용\n",
    "options.add_argument('disable-gpu')    # GPU 사용 안함\n",
    "options.add_argument('lang=ko_KR')    # 언어 설정\n",
    "driver = webdriver.Chrome(chromedriver, options=options)\n",
    "\n",
    "driver.get(url)\n",
    "\n",
    "try:    # 정상 처리\n",
    "    element = WebDriverWait(driver, 3).until(\n",
    "        EC.presence_of_element_located((By.CLASS_NAME, 'list_title'))\n",
    "    )    # 해당 태그 존재 여부를 확인하기까지 3초 정지\n",
    "    theater_list = []\n",
    "    pageNum = int(driver.find_element_by_class_name('_totalCount').text)\n",
    "    count = 0\n",
    "    \n",
    "    for i in range(1, pageNum):\n",
    "        theater_data = driver.find_elements_by_class_name('list_title')\n",
    "        img_data = driver.find_elements_by_class_name('list_thumb')\n",
    "\n",
    "        for k in theater_data:\n",
    "            theater_list.append(k.text.split('\\n'))\n",
    "        \n",
    "        for j in img_data:  # 이미지 크롤링\n",
    "            count += 1\n",
    "            j.screenshot(f'img/{count}.png')\n",
    "        \n",
    "        driver.find_element_by_xpath(\"//a[@class='btn_page_next _btnNext on']\").click()\n",
    "        time.sleep(2) # 웹페이지를 불러오기 위해 2초 정지\n",
    "\n",
    "except TimeoutException:    # 예외 처리\n",
    "    print('해당 페이지에 연극 정보가 존재하지 않습니다.')\n",
    "\n",
    "finally:    # 정상, 예외 둘 중 하나여도 반드시 실행\n",
    "    driver.quit()\n",
    "\n",
    "for i in range(len(theater_list)):\n",
    "    theater_list[i].append(theater_list[i][1].split('~')[0])\n",
    "    theater_list[i].append(theater_list[i][1].split('~')[1])\n",
    "\n",
    "for i in range(len(theater_list)):\n",
    "    if theater_list[i][4] == '오픈런':\n",
    "        theater_list[i][4] = '50.01.01.'\n",
    "        theater_list[i].append('True')\n",
    "    else:\n",
    "        theater_list[i].append('False')\n",
    "\n",
    "theater_df = pd.DataFrame(theater_list,\n",
    "                          columns=['연극명', '기간', '장소', '개막일', '폐막일', '오픈런'])\n",
    "theater_df.index = theater_df.index + 1    # 인덱스 초기값 1로 변경\n",
    "theater_df['개막일'] = pd.to_datetime(theater_df['개막일'], format='%y.%m.%d.')\n",
    "theater_df['폐막일'] = pd.to_datetime(theater_df['폐막일'], format='%y.%m.%d.')\n",
    "theater_df.to_csv(f'theater_{_input}_df.csv', mode='w', encoding='utf-8-sig',\n",
    "                   header=True, index=True)\n",
    "\n",
    "print('웹 크롤링이 완료되었습니다.')\n"
   ]
  },
  {
   "cell_type": "code",
   "execution_count": null,
   "metadata": {},
   "outputs": [],
   "source": []
  },
  {
   "cell_type": "code",
   "execution_count": null,
   "metadata": {},
   "outputs": [],
   "source": []
  },
  {
   "cell_type": "code",
   "execution_count": null,
   "metadata": {},
   "outputs": [],
   "source": []
  },
  {
   "cell_type": "code",
   "execution_count": null,
   "metadata": {},
   "outputs": [],
   "source": [
    "검색 시\n",
    "find_element_by_id(‘id명’)\n",
    "find_element_by_class_name(‘class명’)\n",
    "find_element_by_xpath(‘xpath’)\n",
    "find_element_by_tag_name(‘tag명’)\n",
    "\n",
    "driver.text는 get_text()와 같음"
   ]
  },
  {
   "cell_type": "code",
   "execution_count": null,
   "metadata": {},
   "outputs": [],
   "source": []
  },
  {
   "cell_type": "code",
   "execution_count": null,
   "metadata": {},
   "outputs": [],
   "source": []
  }
 ],
 "metadata": {
  "kernelspec": {
   "display_name": "Python 3 (ipykernel)",
   "language": "python",
   "name": "python3"
  },
  "language_info": {
   "codemirror_mode": {
    "name": "ipython",
    "version": 3
   },
   "file_extension": ".py",
   "mimetype": "text/x-python",
   "name": "python",
   "nbconvert_exporter": "python",
   "pygments_lexer": "ipython3",
   "version": "3.9.13"
  }
 },
 "nbformat": 4,
 "nbformat_minor": 4
}
