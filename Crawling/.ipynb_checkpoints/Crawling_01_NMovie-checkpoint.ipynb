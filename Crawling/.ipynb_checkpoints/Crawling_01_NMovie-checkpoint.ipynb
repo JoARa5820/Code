{
 "cells": [
  {
   "cell_type": "markdown",
   "metadata": {},
   "source": [
    "------------------"
   ]
  },
  {
   "cell_type": "code",
   "execution_count": 1,
   "metadata": {},
   "outputs": [],
   "source": [
    "import os\n",
    "import subprocess\n",
    "import smtplib\n",
    "import email\n",
    "import copy\n",
    "import time\n",
    "import pickle\n",
    "import re\n",
    "import warnings\n",
    "import datetime\n",
    "warnings.filterwarnings(action='ignore')\n",
    "\n",
    "import pandas as pd\n",
    "from time import sleep\n",
    "from collections import OrderedDict  # 리스트 중복 제거 & 순서 그대로 / 순서 뒤죽박죽 중복제거 : set\n",
    "\n",
    "from selenium import webdriver\n",
    "from selenium.webdriver.common.keys import Keys\n",
    "from selenium.webdriver.common.by import By\n",
    "from selenium.webdriver.common.action_chains import ActionChains\n",
    "from email.mime.multipart import MIMEMultipart\n",
    "from email.mime.text import MIMEText\n",
    "from email.mime.base import MIMEBase\n",
    "from email.mime.image import MIMEImage\n",
    "from email.encoders import encode_base64\n",
    "\n",
    "from selenium.common.exceptions import NoSuchElementException,WebDriverException,StaleElementReferenceException\n",
    "\n",
    "from bs4 import BeautifulSoup\n",
    "import schedule"
   ]
  },
  {
   "cell_type": "code",
   "execution_count": 2,
   "metadata": {},
   "outputs": [],
   "source": [
    "from selenium import webdriver\n",
    "import time\n",
    "\n",
    "from selenium.common.exceptions import NoSuchElementException\n",
    "from selenium.webdriver.common.by import By\n",
    "from selenium.webdriver.chrome.service import Service\n",
    "# from webdriver_manager.chrome import ChromeDriverManager"
   ]
  },
  {
   "cell_type": "code",
   "execution_count": 3,
   "metadata": {},
   "outputs": [],
   "source": [
    "# 크롬드라이버를 경로를 입력해서 연결합니다.\n",
    "# 현재 스크립트와 같은 폴더에 있다면 경로를 따로 입력하지 않아도 됩니다.\n",
    "URL = '귱'\n",
    "# driver = webdriver.Chrome(executable_path='C:/Users/User/Desktop/chromedriver_win32/chromedriver')\n",
    "driver = webdriver.Chrome(executable_path='C:/Users/82109/Desktop/Kmong/KK_CODE/chromedriver')\n",
    "driver.implicitly_wait(5)\n",
    "driver.get(url=URL)"
   ]
  },
  {
   "cell_type": "code",
   "execution_count": 4,
   "metadata": {},
   "outputs": [],
   "source": [
    "# 클릭하기 (검색어 입력창 클릭)\n",
    "# click_target = '/html/body/div/div[2]/div/div/fieldset/div/span/label'\n",
    "click_target = '/html/body/div/div[2]/div/div/fieldset/div/span/input'\n",
    "id_input = driver.find_element(by = By.XPATH, value = click_target)\n",
    "id_input.click()"
   ]
  },
  {
   "cell_type": "code",
   "execution_count": 5,
   "metadata": {},
   "outputs": [],
   "source": [
    "# 텍스트 지우기\n",
    "id_input.clear()"
   ]
  },
  {
   "cell_type": "code",
   "execution_count": 6,
   "metadata": {},
   "outputs": [],
   "source": [
    "# 텍스트 입력\n",
    "enter_text = '더 퍼스트 슬램덩크'\n",
    "id_input.send_keys(enter_text)\n",
    "time.sleep(1)"
   ]
  },
  {
   "cell_type": "code",
   "execution_count": 7,
   "metadata": {},
   "outputs": [],
   "source": [
    "# 클릭하기 (검색어 입력 후 검색 클릭)\n",
    "click_target = '/html/body/div/div[2]/div/div/fieldset/div/button'\n",
    "id_input = driver.find_element(by = By.XPATH, value = click_target)\n",
    "id_input.click()"
   ]
  },
  {
   "cell_type": "code",
   "execution_count": 8,
   "metadata": {},
   "outputs": [],
   "source": [
    "# 클릭하기 (바이올렛 에버가든 2종 중 1종 선택)\n",
    "# click_target = '/html/body/div/div[4]/div/div/div/div/div[1]/ul[2]/li[1]/dl/dt/a/strong'  # 바이올렛 에버가든 2개 중 첫번째꺼\n",
    "# click_target = '/html/body/div/div[4]/div/div/div/div/div[1]/ul[2]/li/p/a'  # 이미지 클릭으로 영화 선택\n",
    "click_target = '/html/body/div/div[4]/div/div/div/div/div[1]/ul[2]/li/dl/dt/a'  # 영화명 클릭으로 영화 선택\n",
    "id_input = driver.find_element(by = By.XPATH, value = click_target)\n",
    "id_input.click()"
   ]
  },
  {
   "cell_type": "code",
   "execution_count": 12,
   "metadata": {},
   "outputs": [],
   "source": [
    "# 클릭하기 (평점 탭 클릭)\n",
    "click_target = '/html/body/div/div[4]/div[3]/div[1]/div[3]/ul/li[5]/a'\n",
    "id_input = driver.find_element(by = By.XPATH, value = click_target)\n",
    "id_input.click()"
   ]
  },
  {
   "cell_type": "raw",
   "metadata": {},
   "source": [
    "#####################################################################################################################################################################\n",
    "## 상대경로 : 경로의 중간단계부터 시작 가능하고, //로 시작함\n",
    "//*[@class = 'bar']//*[text()='Testing']  # 절대경로가 아닌 상대경로로, class = bar 아래의 글자가 'Testing'인 요소를 가져옴\n",
    "# => 즉, 두단계를 설정하는 것\n",
    "//*[@class = 'bar' or @name = 'bttnReset']   # OR 또는 AND 사용가능\n",
    "//*[contains(text(), 'here')]  # 글자의 일부만 매칭\n",
    "//*[contains(@href, 'guru99.com')]  # '=' 값의 일부만 매칭\n",
    "//label [starts-with (@id, 'message')] # ID의 초기 텍스트가 동일한 경우 : message12,message342...\n",
    "//td[text() = 'UserID']  # 표현식에서 텍스트 기능을 사용해서 정확한 텍스트가 일치하는 요소를 찾음\n",
    "//*[@type='text']//following::input  # 특정 요소에 중점을 두려면 following 사용(암호,로그인,재설정-3개의 '입력'노드가 일치할때)\n",
    "//*[text() = 'Enterprise Testing']//ancestor::div  # 현재 노드의 모든 조상 요소 선택 : 현재 Enterprise Testing 노드의 조상 요소 중 n개의 div 노드가 있음\n",
    "//*[text() = 'Enterprise Testing']//ancestor::div[1]  # 조상 노드 : 특정 요소에 초점을 맞출때\n",
    "//*[@id = 'java_technologies']/child::li  # 자식 축의 n개의 li 노드가 일치함\n",
    "//*[@id = 'java_technologies']/child::li[1]  # 자식 노드 : 특정 요소에 초점을 맞출때   \n",
    "// * [@ type = 'submit'] // preceding :: input  # 현재 노드 앞에 오는 모든 노드를 선택함(preceding)\n",
    "// * [@ type = 'submit'] // following-sibling :: input  # 현재 노드 뒤의 요소를 찾아서 선택(type='submit'이 있는 곳이 LOGIN이였다면, 다음 텍스트가 input인 곳은 RESET 부분임)\n",
    "// * [@ id = 'rt-feature'] // parent :: div  # 현재 노드의 부모 노드 선택\n",
    "// * [@ id = 'rt-feature'] // parent :: div[1]  # 부모 노드 : 특정 요소에 초점을 맞출때 \n",
    "// * [@ type = 'password'] // self :: input  # 노드 자체 축, 자체 요소를 나타내기 때문에 항상 하나의 노드만 찾음\n",
    "// * [@ id = 'rt-feature'] // descendant :: a  # 현재 노드의 자손을 선택, 모든 요소 자손을 식별\n",
    "// * [@ id = 'rt-feature'] // descendant :: a[1]  # 모든 자손 노드 : 특정 요소에 초점을 맞출때 \n",
    "#####################################################################################################################################################################"
   ]
  },
  {
   "cell_type": "code",
   "execution_count": 103,
   "metadata": {},
   "outputs": [],
   "source": [
    "nujuk_page_num = []\n",
    "nujuk_score = []\n",
    "nujuk_review = []\n",
    "nujuk_ReviewTime = []"
   ]
  },
  {
   "cell_type": "code",
   "execution_count": 104,
   "metadata": {},
   "outputs": [],
   "source": [
    "# 평점 페이지 넘기기\n",
    "for page_num in range(1,11):\n",
    "    # page_add = '/html/body/div/div/div[6]/div/a[' + str(page_num) + ']'\n",
    "    page_add = 'https://movie.naver.com/movie/bi/mi/pointWriteFormList.naver?code=223800&type=after&isActualPointWriteExecute=false&isMileageSubscriptionAlready=false&isMileageSubscriptionReject=false&page=' + str(page_num)\n",
    "    driver.get(url=page_add)\n",
    "    \n",
    "    # print('page_num : ',page_num)\n",
    "    \n",
    "    # (해당 페이지에서) 점수와 관람평 가져오기\n",
    "    for comm_num in range(1,11):\n",
    "        # print('comm_num : ',comm_num)\n",
    "        \n",
    "        ## (1) 점수\n",
    "        # print('score')\n",
    "        score_add = '/html/body/div/div/div[5]/ul/li[' + str(comm_num) + ']/div[1]/em'\n",
    "        score = driver.find_element(by = By.XPATH, value = score_add)\n",
    "        score = score.text\n",
    "        \n",
    "        ## (2) 관람평\n",
    "        # print('review')\n",
    "        try:\n",
    "            review_add = '/html/body/div/div/div[5]/ul/li[' + str(comm_num) + ']/div[2]/p/span[2]'  # 관람객인 경우\n",
    "            review = driver.find_element(by = By.XPATH, value = review_add)\n",
    "            review = review.text\n",
    "\n",
    "            ## (3) 평점 입력시간\n",
    "            # print('ReviewTime')\n",
    "            ReviewTime_add = '/html/body/div/div/div[5]/ul/li[' + str(comm_num) + ']/div[2]/dl/dt/em[2]'\n",
    "            ReviewTime = driver.find_element(by = By.XPATH, value = ReviewTime_add)\n",
    "            ReviewTime = ReviewTime.text\n",
    "\n",
    "            # 페이지 - 점수 - 관람평\n",
    "            nujuk_page_num.append(page_num)\n",
    "            nujuk_score.append(score)\n",
    "            nujuk_review.append([review])\n",
    "            nujuk_ReviewTime.append([ReviewTime])\n",
    "        except NoSuchElementException :\n",
    "            review_add = '/html/body/div/div/div[5]/ul/li[' + str(comm_num) + ']/div[2]/p/span'  # 관람객이 아닌 경우\n",
    "            review = driver.find_element(by = By.XPATH, value = review_add)\n",
    "            review = review.text\n",
    "\n",
    "            ## (3) 평점 입력시간\n",
    "            # print('ReviewTime')\n",
    "            ReviewTime_add = '/html/body/div/div/div[5]/ul/li[' + str(comm_num) + ']/div[2]/dl/dt/em[2]'\n",
    "            ReviewTime = driver.find_element(by = By.XPATH, value = ReviewTime_add)\n",
    "            ReviewTime = ReviewTime.text\n",
    "\n",
    "            # 페이지 - 점수 - 관람평\n",
    "            nujuk_page_num.append(page_num)\n",
    "            nujuk_score.append(score)\n",
    "            nujuk_review.append([review])\n",
    "            nujuk_ReviewTime.append([ReviewTime])"
   ]
  },
  {
   "cell_type": "code",
   "execution_count": 105,
   "metadata": {},
   "outputs": [],
   "source": [
    "# (페이지 - 점수 - 관람평) 결과 병합\n",
    "nujuk_page_num = pd.DataFrame(nujuk_page_num, columns = ['page_num'])\n",
    "nujuk_score = pd.DataFrame(nujuk_score, columns = ['score'])\n",
    "nujuk_review = pd.DataFrame(nujuk_review, columns = ['review'])\n",
    "nujuk_ReviewTime = pd.DataFrame(nujuk_ReviewTime, columns = ['ReviewTime'])\n",
    "page_score_df = pd.concat([nujuk_page_num,nujuk_score,nujuk_review,nujuk_ReviewTime], axis = 1)"
   ]
  },
  {
   "cell_type": "code",
   "execution_count": 108,
   "metadata": {},
   "outputs": [],
   "source": [
    "# page_score_df"
   ]
  },
  {
   "cell_type": "code",
   "execution_count": 107,
   "metadata": {},
   "outputs": [
    {
     "data": {
      "text/plain": [
       "100"
      ]
     },
     "execution_count": 107,
     "metadata": {},
     "output_type": "execute_result"
    }
   ],
   "source": [
    "len(page_score_df)"
   ]
  },
  {
   "cell_type": "code",
   "execution_count": 109,
   "metadata": {},
   "outputs": [],
   "source": [
    "driver.quit() # 종료(반드시 실행 시키는 기능) : 정상/예외 처리 둘 중 하나여도 반드시 실행시킴"
   ]
  },
  {
   "cell_type": "markdown",
   "metadata": {},
   "source": [
    "------------------"
   ]
  }
 ],
 "metadata": {
  "kernelspec": {
   "display_name": "Python 3 (ipykernel)",
   "language": "python",
   "name": "python3"
  },
  "language_info": {
   "codemirror_mode": {
    "name": "ipython",
    "version": 3
   },
   "file_extension": ".py",
   "mimetype": "text/x-python",
   "name": "python",
   "nbconvert_exporter": "python",
   "pygments_lexer": "ipython3",
   "version": "3.9.13"
  }
 },
 "nbformat": 4,
 "nbformat_minor": 4
}
