{
 "cells": [
  {
   "cell_type": "code",
   "execution_count": null,
   "id": "b5e715eb",
   "metadata": {},
   "outputs": [],
   "source": [
    "import pandas as pd\n",
    "import glob\n",
    "import itertools"
   ]
  },
  {
   "cell_type": "markdown",
   "id": "347da50d",
   "metadata": {},
   "source": [
    "# (경우1) 월 결과(월 MSE)의 target명 통일시키기"
   ]
  },
  {
   "cell_type": "code",
   "execution_count": null,
   "id": "2f8ed7ce",
   "metadata": {},
   "outputs": [],
   "source": [
    "## 월 결과(월 MSE)의 target명 통일시키기\n",
    "file_list = glob.glob('result/*.csv')\n",
    "file_list.sort()\n",
    "\n",
    "for file_nm in file_list:\n",
    "    tmp_df = pd.read_csv(file_nm, encoding = 'utf-8')\n",
    "    tmp_df = tmp_df.drop_duplicates(['target'], keep='first')\n",
    "    tmp_df.reset_index(drop=True, inplace=True)\n",
    "#     tmp_df = tmp_df[['target','MSE','BEST_MDL']]\n",
    "    if file_nm.find('dis') == -1:\n",
    "        tmp_df['target1'] = tmp_df['target'].map(lambda x : x.split('_')[0])\n",
    "        tmp_df['target2'] = tmp_df['target'].map(lambda x : x.split('_')[1])\n",
    "    else:\n",
    "        tmp_df['target1'] = tmp_df['target'].map(lambda x : x.split('_')[0])\n",
    "        tmp_df['target2'] = tmp_df['target'].map(lambda x : x.split('_')[1])        \n",
    "        tmp_df['target3'] = tmp_df['target'].map(lambda x : x.split('_')[2])\n",
    "        \n",
    "    # < target 컬럼명 조정 >\n",
    "    # 1-1. 기본 data의 sido 컬럼 호출\n",
    "    data_list = glob.glob('data/*.csv')\n",
    "    sido = []\n",
    "    for data_nm in data_list:\n",
    "        tmp = pd.read_csv(data_nm, encoding = 'cp949')\n",
    "        sido.append(list(tmp['SIDO'].unique()))\n",
    "\n",
    "    sido = list(pd.Series(list(itertools.chain.from_iterable(sido))).unique())\n",
    "    sido.sort()\n",
    "    \n",
    "    # 1-2. result 데이터의 sido 컬럼 호출\n",
    "    target1 = list(tmp_df['target1'].unique())\n",
    "    target1.sort()\n",
    "    target2 = list(tmp_df['target2'].unique())\n",
    "    target2.sort()\n",
    "    if file_nm.find('dis') != -1: \n",
    "        target3 = list(tmp_df['target3'].unique())\n",
    "        target3.sort()\n",
    "\n",
    "    # 2. new_target 컬럼 생성(sido 컬럼이 우선적으로 나오도록 target값 변경)\n",
    "    if file_nm.find('dis') == -1: \n",
    "        if sido == target1:\n",
    "            tmp_df['new_target'] = tmp_df['target1'] + '_' + tmp_df['target2']\n",
    "        elif sido == target2:\n",
    "            tmp_df['new_target'] = tmp_df['target2'] + '_' + tmp_df['target1']\n",
    "    else:\n",
    "        if sido == target1:\n",
    "            tmp_df['new_target'] = tmp_df['target1'] + '_' + tmp_df['target2'] + '_' + tmp_df['target3']\n",
    "        elif sido == target3:\n",
    "            tmp_df['new_target'] = tmp_df['target3'] + '_' + tmp_df['target1'] + '_' + tmp_df['target2']\n",
    "            \n",
    "#     tmp_df = tmp_df[['new_target','MSE','BEST_MDL']]\n",
    "    tmp_df['file_nm'] = file_nm.split('/')[1].split('.')[0]\n",
    "    tmp_df = tmp_df[['file_nm','new_target','MSE','BEST_MDL']]\n",
    "    tmp_df = tmp_df.sort_values(by = ['new_target'])\n",
    "    tmp_df.to_csv('mody_month_result/month_' + file_nm.split('/')[1].split('.')[0] + '.csv', index=False, encoding = 'utf-8')"
   ]
  },
  {
   "cell_type": "markdown",
   "id": "07045094",
   "metadata": {},
   "source": [
    "---------"
   ]
  },
  {
   "cell_type": "markdown",
   "id": "f5d28d54",
   "metadata": {},
   "source": [
    "# (경우2) target명 통일시키고 연 MSE값 구하기"
   ]
  },
  {
   "cell_type": "code",
   "execution_count": null,
   "id": "93aba9b9",
   "metadata": {},
   "outputs": [],
   "source": [
    "## target명 통일시키고 연 MSE값 구하기\n",
    "file_list = glob.glob('result/*.csv')\n",
    "file_list.sort()\n",
    "\n",
    "for file_nm in file_list:\n",
    "    \n",
    "    # 연 MSE값 구하기\n",
    "    df = pd.read_csv(file_nm, encoding = 'utf-8')\n",
    "    df['stand_time'] = df['stand_time'].astype('str')\n",
    "    df['YEAR'] = df['stand_time'].map(lambda x : x[0:4])\n",
    "\n",
    "    tmp = df.groupby(['target','YEAR']).sum().reset_index()\n",
    "    tmp['YR_DIFF'] = tmp['PREDICT'] - tmp['SEP_CNT']\n",
    "    tmp['YR_MSE'] = tmp['YR_DIFF'] * tmp['YR_DIFF']\n",
    "    tmp_df = tmp[['YEAR','target','PREDICT','SEP_CNT','YR_DIFF','YR_MSE']]  # PREDICT/SEP_CNT/YR_DIFF/YR_MSE : 연 값    \n",
    "    \n",
    "    ## < target 컬럼명 조정 > \n",
    "    if file_nm.find('dis') == -1:\n",
    "        tmp_df['target1'] = tmp_df['target'].map(lambda x : x.split('_')[0])\n",
    "        tmp_df['target2'] = tmp_df['target'].map(lambda x : x.split('_')[1])\n",
    "    else:\n",
    "        tmp_df['target1'] = tmp_df['target'].map(lambda x : x.split('_')[0])\n",
    "        tmp_df['target2'] = tmp_df['target'].map(lambda x : x.split('_')[1])        \n",
    "        tmp_df['target3'] = tmp_df['target'].map(lambda x : x.split('_')[2])\n",
    "        \n",
    "    # 1-1. 기본 data의 sido 컬럼 호출\n",
    "    data_list = glob.glob('data/*.csv')\n",
    "    sido = []\n",
    "    for data_nm in data_list:\n",
    "        tmp = pd.read_csv(data_nm, encoding = 'cp949')\n",
    "        sido.append(list(tmp['SIDO'].unique()))\n",
    "\n",
    "    sido = list(pd.Series(list(itertools.chain.from_iterable(sido))).unique())\n",
    "    sido.sort()\n",
    "    \n",
    "    # 1-2. result 데이터의 sido 컬럼 호출\n",
    "    target1 = list(tmp_df['target1'].unique())\n",
    "    target1.sort()\n",
    "    target2 = list(tmp_df['target2'].unique())\n",
    "    target2.sort()\n",
    "    if file_nm.find('dis') != -1: \n",
    "        target3 = list(tmp_df['target3'].unique())\n",
    "        target3.sort()\n",
    "\n",
    "    # 2. new_target 컬럼 생성(sido 컬럼이 우선적으로 나오도록 target값 변경)\n",
    "    if file_nm.find('dis') == -1: \n",
    "        if sido == target1:\n",
    "            tmp_df['new_target'] = tmp_df['target1'] + '_' + tmp_df['target2']\n",
    "        elif sido == target2:\n",
    "            tmp_df['new_target'] = tmp_df['target2'] + '_' + tmp_df['target1']\n",
    "    else:\n",
    "        if sido == target1:\n",
    "            tmp_df['new_target'] = tmp_df['target1'] + '_' + tmp_df['target2'] + '_' + tmp_df['target3']\n",
    "        elif sido == target3:\n",
    "            tmp_df['new_target'] = tmp_df['target3'] + '_' + tmp_df['target1'] + '_' + tmp_df['target2']\n",
    "            \n",
    "    tmp_df['file_nm'] = file_nm.split('/')[1].split('.')[0]\n",
    "    tmp_df = tmp_df[['file_nm','new_target','PREDICT','SEP_CNT','YR_DIFF','YR_MSE']]\n",
    "    tmp_df = tmp_df.sort_values(by = ['new_target'])\n",
    "    tmp_df.to_csv('mody_year_result/year_' + file_nm.split('/')[1].split('.')[0] + '.csv', index=False, encoding = 'utf-8')"
   ]
  },
  {
   "cell_type": "markdown",
   "id": "f6d035f4",
   "metadata": {},
   "source": [
    "-------------"
   ]
  },
  {
   "cell_type": "markdown",
   "id": "f905341e",
   "metadata": {},
   "source": [
    "# 각 모형별 최종 모형(월/분기/반기/연) 선택"
   ]
  },
  {
   "cell_type": "code",
   "execution_count": 1,
   "id": "df3c2455",
   "metadata": {},
   "outputs": [],
   "source": [
    "import pandas as pd\n",
    "import glob\n",
    "import itertools\n",
    "import numpy as np\n",
    "import warnings\n",
    "warnings.filterwarnings('ignore')"
   ]
  },
  {
   "cell_type": "code",
   "execution_count": 2,
   "id": "a53797f6",
   "metadata": {},
   "outputs": [],
   "source": [
    "file_list = glob.glob('mody_year_result/*.csv')\n",
    "file_list.sort()\n",
    "\n",
    "for file_nm in file_list:\n",
    "    \n",
    "    # (월/분기/반기/연) 결과 병합\n",
    "    df = pd.read_csv(file_nm, encoding = 'utf-8')\n",
    "    division_nm = file_nm.split('/')[1].split('.')[0].split('_')[-1]\n",
    "    \n",
    "    df = df[['file_nm','new_target','YR_MSE']]\n",
    "    df = df.rename(columns = {'file_nm':(division_nm + '_file'),'new_target':(division_nm + '_tgt'),'YR_MSE':(division_nm + '_yr_mse')})    \n",
    "    \n",
    "    if file_nm.find('_age') != -1:\n",
    "        if file_nm == 'mody_year_result/year_result_merge_age.csv':\n",
    "            df_age = df\n",
    "        else:\n",
    "            df_age = pd.concat([df_age,df],axis = 1)\n",
    "    elif file_nm.find('_cls') != -1:\n",
    "        if file_nm == 'mody_year_result/year_result_merge_cls.csv':\n",
    "            df_cls = df\n",
    "        else:\n",
    "            df_cls = pd.concat([df_cls,df],axis = 1)\n",
    "    elif file_nm.find('_dis') != -1:\n",
    "        if file_nm == 'mody_year_result/year_result_merge_dis.csv':\n",
    "            df_dis = df\n",
    "        else:\n",
    "            df_dis = pd.concat([df_dis,df],axis = 1)\n",
    "    else:\n",
    "        print('?')"
   ]
  },
  {
   "cell_type": "code",
   "execution_count": 3,
   "id": "1afa2b34",
   "metadata": {},
   "outputs": [],
   "source": [
    "# for divi in ['age','cls','dis']:\n",
    "#     print('---------------------------------------------------------------------------')\n",
    "#     print(list(pd.Series(list(globals()['df_' + divi][divi + '_tgt'] == globals()['df_' + divi]['half_tgt'])).unique()))\n",
    "#     print(list(pd.Series(list(globals()['df_' + divi][divi + '_tgt'] == globals()['df_' + divi]['month_tgt'])).unique()))\n",
    "#     print(list(pd.Series(list(globals()['df_' + divi][divi + '_tgt'] == globals()['df_' + divi]['quarter_tgt'])).unique()))\n",
    "#     print('---------------------------------------------------------------------------')"
   ]
  },
  {
   "cell_type": "code",
   "execution_count": 4,
   "id": "7596280c",
   "metadata": {},
   "outputs": [],
   "source": [
    "for divi in ['age','cls','dis']:\n",
    "    globals()['df_' + divi] = globals()['df_' + divi][[divi + '_tgt',divi + '_yr_mse','month_yr_mse','quarter_yr_mse','half_yr_mse']]\n",
    "    globals()['df_' + divi]['MIN_MSE'] = np.NaN\n",
    "    globals()['df_' + divi]['OPT_MDL'] = ''\n",
    "    for i in range(len(globals()['df_' + divi])):\n",
    "        globals()['df_' + divi]['MIN_MSE'][i] = globals()['df_' + divi][[divi + '_yr_mse','month_yr_mse','quarter_yr_mse','half_yr_mse']].iloc[i].min()\n",
    "        if globals()['df_' + divi]['MIN_MSE'][i] == globals()['df_' + divi][divi + '_yr_mse'][i]:\n",
    "            globals()['df_' + divi]['OPT_MDL'][i] = divi + '_yr_mse'\n",
    "        elif globals()['df_' + divi]['MIN_MSE'][i] == globals()['df_' + divi]['month_yr_mse'][i]:\n",
    "            globals()['df_' + divi]['OPT_MDL'][i] = 'month_yr_mse'\n",
    "        elif globals()['df_' + divi]['MIN_MSE'][i] == globals()['df_' + divi]['quarter_yr_mse'][i]:\n",
    "            globals()['df_' + divi]['OPT_MDL'][i] = 'quarter_yr_mse'\n",
    "        elif globals()['df_' + divi]['MIN_MSE'][i] == globals()['df_' + divi]['half_yr_mse'][i]:\n",
    "            globals()['df_' + divi]['OPT_MDL'][i] = 'half_yr_mse'\n",
    "    globals()['df_' + divi][divi + '_yr_mse'] = round(globals()['df_' + divi][divi + '_yr_mse'],2)\n",
    "    globals()['df_' + divi]['month_yr_mse'] = round(globals()['df_' + divi]['month_yr_mse'],2)\n",
    "    globals()['df_' + divi]['quarter_yr_mse'] = round(globals()['df_' + divi]['quarter_yr_mse'],2)\n",
    "    globals()['df_' + divi]['half_yr_mse'] = round(globals()['df_' + divi]['half_yr_mse'],2)\n",
    "    globals()['df_' + divi]['MIN_MSE'] = round(globals()['df_' + divi]['MIN_MSE'],2)\n",
    "            \n",
    "df_age.to_csv('fin_result/df_age.csv', index=False, encoding = 'utf-8')\n",
    "df_cls.to_csv('fin_result/df_cls.csv', index=False, encoding = 'utf-8')\n",
    "df_dis.to_csv('fin_result/df_dis.csv', index=False, encoding = 'utf-8')"
   ]
  },
  {
   "cell_type": "code",
   "execution_count": 5,
   "id": "4619d725",
   "metadata": {},
   "outputs": [
    {
     "data": {
      "text/plain": [
       "age_yr_mse        171\n",
       "half_yr_mse        48\n",
       "quarter_yr_mse     30\n",
       "month_yr_mse        6\n",
       "Name: OPT_MDL, dtype: int64"
      ]
     },
     "execution_count": 5,
     "metadata": {},
     "output_type": "execute_result"
    }
   ],
   "source": [
    "df_age['OPT_MDL'].value_counts()"
   ]
  },
  {
   "cell_type": "code",
   "execution_count": 6,
   "id": "73f3e14f",
   "metadata": {},
   "outputs": [
    {
     "data": {
      "text/plain": [
       "cls_yr_mse        41\n",
       "half_yr_mse        8\n",
       "quarter_yr_mse     2\n",
       "Name: OPT_MDL, dtype: int64"
      ]
     },
     "execution_count": 6,
     "metadata": {},
     "output_type": "execute_result"
    }
   ],
   "source": [
    "df_cls['OPT_MDL'].value_counts()"
   ]
  },
  {
   "cell_type": "code",
   "execution_count": 7,
   "id": "312d1442",
   "metadata": {},
   "outputs": [
    {
     "data": {
      "text/plain": [
       "dis_yr_mse        143\n",
       "half_yr_mse        15\n",
       "quarter_yr_mse     10\n",
       "month_yr_mse        2\n",
       "Name: OPT_MDL, dtype: int64"
      ]
     },
     "execution_count": 7,
     "metadata": {},
     "output_type": "execute_result"
    }
   ],
   "source": [
    "df_dis['OPT_MDL'].value_counts()"
   ]
  },
  {
   "cell_type": "markdown",
   "id": "76204ade",
   "metadata": {},
   "source": [
    "-------------"
   ]
  }
 ],
 "metadata": {
  "kernelspec": {
   "display_name": "Python 3 (ipykernel)",
   "language": "python",
   "name": "python3"
  },
  "language_info": {
   "codemirror_mode": {
    "name": "ipython",
    "version": 3
   },
   "file_extension": ".py",
   "mimetype": "text/x-python",
   "name": "python",
   "nbconvert_exporter": "python",
   "pygments_lexer": "ipython3",
   "version": "3.8.10"
  }
 },
 "nbformat": 4,
 "nbformat_minor": 5
}
